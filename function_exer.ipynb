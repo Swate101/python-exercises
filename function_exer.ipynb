{
 "cells": [
  {
   "cell_type": "code",
   "execution_count": 1,
   "id": "3011baca",
   "metadata": {},
   "outputs": [],
   "source": [
    "def increment(n):\n",
    "    return n + 1\n"
   ]
  },
  {
   "cell_type": "code",
   "execution_count": 2,
   "id": "b6be1b3d",
   "metadata": {},
   "outputs": [
    {
     "name": "stdout",
     "output_type": "stream",
     "text": [
      "6\n"
     ]
    }
   ],
   "source": [
    "six = increment(increment(increment(3)))\n",
    "\n",
    "print(six)\n"
   ]
  },
  {
   "cell_type": "code",
   "execution_count": 3,
   "id": "c41582d7",
   "metadata": {},
   "outputs": [],
   "source": [
    "six = increment(increment(increment(3)))\n",
    "six = increment(increment(4))\n",
    "six = increment(5)\n",
    "six = 6\n"
   ]
  },
  {
   "cell_type": "code",
   "execution_count": 4,
   "id": "2c79ca0d",
   "metadata": {},
   "outputs": [
    {
     "data": {
      "text/plain": [
       "4"
      ]
     },
     "execution_count": 4,
     "metadata": {},
     "output_type": "execute_result"
    }
   ],
   "source": [
    "def increment(n):\n",
    "    return n + 1\n",
    "    print('You will never see this')\n",
    "    return n + 1\n",
    "\n",
    "increment(3)\n"
   ]
  },
  {
   "cell_type": "code",
   "execution_count": 6,
   "id": "9a597061",
   "metadata": {},
   "outputs": [],
   "source": [
    "def add(a, b):\n",
    "    result = a + b\n",
    "    return result\n",
    "\n",
    "x = 3\n",
    "seven = add(x, 4)\n"
   ]
  },
  {
   "cell_type": "code",
   "execution_count": 7,
   "id": "b01866b8",
   "metadata": {},
   "outputs": [
    {
     "data": {
      "text/plain": [
       "7"
      ]
     },
     "execution_count": 7,
     "metadata": {},
     "output_type": "execute_result"
    }
   ],
   "source": [
    "seven"
   ]
  },
  {
   "cell_type": "code",
   "execution_count": 8,
   "id": "6848c02a",
   "metadata": {},
   "outputs": [
    {
     "name": "stdout",
     "output_type": "stream",
     "text": [
      "HEY THERE!!!\n",
      "None\n"
     ]
    }
   ],
   "source": [
    "def shout(message):\n",
    "    print(message.upper() + '!!!')\n",
    "\n",
    "return_value = shout('hey there')\n",
    "print(return_value)\n"
   ]
  },
  {
   "cell_type": "code",
   "execution_count": 9,
   "id": "1d407aa5",
   "metadata": {},
   "outputs": [
    {
     "name": "stdout",
     "output_type": "stream",
     "text": [
      "Hey there!\n"
     ]
    }
   ],
   "source": [
    "def sayhello():\n",
    "    print('Hey there!')\n",
    "\n",
    "sayhello()\n"
   ]
  },
  {
   "cell_type": "code",
   "execution_count": 10,
   "id": "574573d5",
   "metadata": {},
   "outputs": [],
   "source": [
    "def sayhello(name='World', greeting='Hello'):\n",
    "    return '{}, {}!'.format(greeting, name)\n"
   ]
  },
  {
   "cell_type": "code",
   "execution_count": 11,
   "id": "0a375e9a",
   "metadata": {},
   "outputs": [
    {
     "data": {
      "text/plain": [
       "'Hello, World!'"
      ]
     },
     "execution_count": 11,
     "metadata": {},
     "output_type": "execute_result"
    }
   ],
   "source": [
    "sayhello()"
   ]
  },
  {
   "cell_type": "code",
   "execution_count": 13,
   "id": "e0dd1581",
   "metadata": {},
   "outputs": [
    {
     "data": {
      "text/plain": [
       "'Hello, code!'"
      ]
     },
     "execution_count": 13,
     "metadata": {},
     "output_type": "execute_result"
    }
   ],
   "source": [
    "sayhello('code')"
   ]
  },
  {
   "cell_type": "code",
   "execution_count": 14,
   "id": "2bfb0108",
   "metadata": {},
   "outputs": [
    {
     "data": {
      "text/plain": [
       "'Salutations, Codeup!'"
      ]
     },
     "execution_count": 14,
     "metadata": {},
     "output_type": "execute_result"
    }
   ],
   "source": [
    "sayhello(greeting='Salutations', name='Codeup')\n"
   ]
  },
  {
   "cell_type": "code",
   "execution_count": 15,
   "id": "5dacbde0",
   "metadata": {},
   "outputs": [
    {
     "data": {
      "text/plain": [
       "'Hello, World!'"
      ]
     },
     "execution_count": 15,
     "metadata": {},
     "output_type": "execute_result"
    }
   ],
   "source": [
    "sayhello()"
   ]
  },
  {
   "cell_type": "code",
   "execution_count": 16,
   "id": "e25f9511",
   "metadata": {},
   "outputs": [
    {
     "data": {
      "text/plain": [
       "'Salutations, Codeup!'"
      ]
     },
     "execution_count": 16,
     "metadata": {},
     "output_type": "execute_result"
    }
   ],
   "source": [
    "args = ['Codeup', 'Salutations']\n",
    "\n",
    "sayhello(*args)\n"
   ]
  },
  {
   "cell_type": "code",
   "execution_count": 17,
   "id": "3eaae178",
   "metadata": {},
   "outputs": [
    {
     "data": {
      "text/plain": [
       "'Salutations, Codeup!'"
      ]
     },
     "execution_count": 17,
     "metadata": {},
     "output_type": "execute_result"
    }
   ],
   "source": [
    "kwargs = {'greeting': 'Salutations', 'name': 'Codeup'}\n",
    "\n",
    "sayhello(**kwargs)\n"
   ]
  },
  {
   "cell_type": "code",
   "execution_count": 18,
   "id": "eb663966",
   "metadata": {},
   "outputs": [
    {
     "name": "stdout",
     "output_type": "stream",
     "text": [
      "Inside the function: 42\n",
      "Outside the function: 42\n"
     ]
    }
   ],
   "source": [
    "a_global_variable = 42\n",
    "\n",
    "def somefunction():\n",
    "    print('Inside the function: %s' % a_global_variable)\n",
    "\n",
    "somefunction()\n",
    "print('Outside the function: %s' % a_global_variable)\n"
   ]
  },
  {
   "cell_type": "code",
   "execution_count": 19,
   "id": "62dfcb18",
   "metadata": {},
   "outputs": [
    {
     "name": "stdout",
     "output_type": "stream",
     "text": [
      "Outside the function, n == 123\n",
      "Inside the function, n == 7\n",
      "Outside the function, n == 123\n"
     ]
    }
   ],
   "source": [
    "n = 123\n",
    "\n",
    "def somefunction():\n",
    "    n = 10\n",
    "    n = n - 3\n",
    "    print('Inside the function, n == %s' % n)\n",
    "\n",
    "print('Outside the function, n == %s' % n)\n",
    "somefunction()\n",
    "print('Outside the function, n == %s' % n)\n"
   ]
  },
  {
   "cell_type": "code",
   "execution_count": 1,
   "id": "054d2ef3",
   "metadata": {},
   "outputs": [],
   "source": [
    "def is_two(n):\n",
    "    if n == 2 or n == 'Two':\n",
    "        return True\n",
    "    else:\n",
    "        return False"
   ]
  },
  {
   "cell_type": "code",
   "execution_count": 2,
   "id": "de8d1630",
   "metadata": {},
   "outputs": [
    {
     "data": {
      "text/plain": [
       "True"
      ]
     },
     "execution_count": 2,
     "metadata": {},
     "output_type": "execute_result"
    }
   ],
   "source": [
    "is_two(2)"
   ]
  },
  {
   "cell_type": "code",
   "execution_count": 3,
   "id": "52fe47df",
   "metadata": {},
   "outputs": [
    {
     "data": {
      "text/plain": [
       "False"
      ]
     },
     "execution_count": 3,
     "metadata": {},
     "output_type": "execute_result"
    }
   ],
   "source": [
    "is_two(6)"
   ]
  },
  {
   "cell_type": "code",
   "execution_count": 4,
   "id": "c8190434",
   "metadata": {},
   "outputs": [
    {
     "data": {
      "text/plain": [
       "True"
      ]
     },
     "execution_count": 4,
     "metadata": {},
     "output_type": "execute_result"
    }
   ],
   "source": [
    "is_two('Two')"
   ]
  },
  {
   "cell_type": "code",
   "execution_count": 5,
   "id": "c681cd0e",
   "metadata": {},
   "outputs": [],
   "source": [
    "def is_vowel(n):\n",
    "    if n.lower() in 'aeiou':\n",
    "        return True\n",
    "    if n.upper() in 'AEIOU':\n",
    "        return True\n",
    "    else:\n",
    "        return False\n",
    "    \n"
   ]
  },
  {
   "cell_type": "code",
   "execution_count": 6,
   "id": "61e1442a",
   "metadata": {},
   "outputs": [
    {
     "data": {
      "text/plain": [
       "True"
      ]
     },
     "execution_count": 6,
     "metadata": {},
     "output_type": "execute_result"
    }
   ],
   "source": [
    "is_vowel('iou')"
   ]
  },
  {
   "cell_type": "code",
   "execution_count": 7,
   "id": "6d55b5f0",
   "metadata": {},
   "outputs": [],
   "source": [
    "def is_consonant(n):\n",
    "    if n.lower() in 'aeiou':\n",
    "        return False\n",
    "    if n.upper() in 'AEIOU':\n",
    "        return False\n",
    "    else:\n",
    "        return True"
   ]
  },
  {
   "cell_type": "code",
   "execution_count": 8,
   "id": "b6c80d8d",
   "metadata": {},
   "outputs": [
    {
     "data": {
      "text/plain": [
       "False"
      ]
     },
     "execution_count": 8,
     "metadata": {},
     "output_type": "execute_result"
    }
   ],
   "source": [
    "is_consonant('a')"
   ]
  },
  {
   "cell_type": "code",
   "execution_count": 9,
   "id": "09fd3338",
   "metadata": {},
   "outputs": [
    {
     "data": {
      "text/plain": [
       "True"
      ]
     },
     "execution_count": 9,
     "metadata": {},
     "output_type": "execute_result"
    }
   ],
   "source": [
    "is_consonant('b')"
   ]
  },
  {
   "cell_type": "code",
   "execution_count": 69,
   "id": "3d1e9dc1",
   "metadata": {},
   "outputs": [],
   "source": [
    "def word(message):\n",
    "        if 'aeiou' in message :\n",
    "            return message.lower()\n",
    "        else:\n",
    "            return message.capitalize()\n",
    "    "
   ]
  },
  {
   "cell_type": "code",
   "execution_count": 70,
   "id": "4d00d44f",
   "metadata": {},
   "outputs": [
    {
     "data": {
      "text/plain": [
       "'Aord'"
      ]
     },
     "execution_count": 70,
     "metadata": {},
     "output_type": "execute_result"
    }
   ],
   "source": [
    "word('aord')"
   ]
  },
  {
   "cell_type": "code",
   "execution_count": 92,
   "id": "7110dd9c",
   "metadata": {},
   "outputs": [],
   "source": [
    "def word(phrase):\n",
    "    answer = ''\n",
    "    for letter in phrase:\n",
    "        if letter in \"aeiouAEIOU\":\n",
    "            answer = answer + letter.lower()\n",
    "        else:\n",
    "            answer = answer + letter.capitalize()\n",
    "        return answer "
   ]
  },
  {
   "cell_type": "code",
   "execution_count": 93,
   "id": "5d31a3e1",
   "metadata": {},
   "outputs": [
    {
     "data": {
      "text/plain": [
       "'B'"
      ]
     },
     "execution_count": 93,
     "metadata": {},
     "output_type": "execute_result"
    }
   ],
   "source": [
    "word('boop')"
   ]
  },
  {
   "cell_type": "code",
   "execution_count": 1,
   "id": "f2c955f7",
   "metadata": {},
   "outputs": [],
   "source": [
    "def is_vowel(somestring):\n",
    "    if type(somestring) == str:\n",
    "        result = somestring.lower() in ['a', 'e', 'i', 'o', 'u']\n",
    "        return result\n",
    "    else:\n",
    "        return False"
   ]
  },
  {
   "cell_type": "code",
   "execution_count": 11,
   "id": "dea1693b",
   "metadata": {},
   "outputs": [
    {
     "data": {
      "text/plain": [
       "True"
      ]
     },
     "execution_count": 11,
     "metadata": {},
     "output_type": "execute_result"
    }
   ],
   "source": [
    "is_vowel ('a')"
   ]
  },
  {
   "cell_type": "code",
   "execution_count": 12,
   "id": "750b2d3f",
   "metadata": {},
   "outputs": [
    {
     "data": {
      "text/plain": [
       "True"
      ]
     },
     "execution_count": 12,
     "metadata": {},
     "output_type": "execute_result"
    }
   ],
   "source": [
    "is_vowel ('A')"
   ]
  },
  {
   "cell_type": "code",
   "execution_count": 13,
   "id": "d52520ec",
   "metadata": {},
   "outputs": [
    {
     "data": {
      "text/plain": [
       "False"
      ]
     },
     "execution_count": 13,
     "metadata": {},
     "output_type": "execute_result"
    }
   ],
   "source": [
    "is_vowel ('b')"
   ]
  },
  {
   "cell_type": "code",
   "execution_count": 18,
   "id": "75daa872",
   "metadata": {},
   "outputs": [],
   "source": [
    "def is_consonant(somestring):\n",
    "    if type(somestring) == str:\n",
    "        only_letters = somestring.isalpha()\n",
    "        return only_letters and not is_vowel(somestring)\n",
    "    return False"
   ]
  },
  {
   "cell_type": "code",
   "execution_count": 19,
   "id": "e0e1113d",
   "metadata": {},
   "outputs": [
    {
     "data": {
      "text/plain": [
       "False"
      ]
     },
     "execution_count": 19,
     "metadata": {},
     "output_type": "execute_result"
    }
   ],
   "source": [
    "is_consonant ('3')"
   ]
  },
  {
   "cell_type": "code",
   "execution_count": 20,
   "id": "8aaa5c5c",
   "metadata": {},
   "outputs": [
    {
     "data": {
      "text/plain": [
       "False"
      ]
     },
     "execution_count": 20,
     "metadata": {},
     "output_type": "execute_result"
    }
   ],
   "source": [
    "is_consonant ('a')"
   ]
  },
  {
   "cell_type": "code",
   "execution_count": 21,
   "id": "86e12d58",
   "metadata": {},
   "outputs": [
    {
     "data": {
      "text/plain": [
       "True"
      ]
     },
     "execution_count": 21,
     "metadata": {},
     "output_type": "execute_result"
    }
   ],
   "source": [
    "is_consonant ('z')"
   ]
  },
  {
   "cell_type": "code",
   "execution_count": 23,
   "id": "fec510f1",
   "metadata": {},
   "outputs": [],
   "source": [
    "def word(string):\n",
    "    if type(string) != str:\n",
    "        return False\n",
    "    first_letter = string[0]\n",
    "    if is_consonant(first_letter):\n",
    "        string = string.capitalize()\n",
    "        return string"
   ]
  },
  {
   "cell_type": "code",
   "execution_count": 24,
   "id": "db47159e",
   "metadata": {},
   "outputs": [
    {
     "data": {
      "text/plain": [
       "'Fat'"
      ]
     },
     "execution_count": 24,
     "metadata": {},
     "output_type": "execute_result"
    }
   ],
   "source": [
    "word('fat')"
   ]
  },
  {
   "cell_type": "code",
   "execution_count": 25,
   "id": "1a663aca",
   "metadata": {},
   "outputs": [
    {
     "data": {
      "text/plain": [
       "'Donkey'"
      ]
     },
     "execution_count": 25,
     "metadata": {},
     "output_type": "execute_result"
    }
   ],
   "source": [
    "word('donkey')"
   ]
  },
  {
   "cell_type": "code",
   "execution_count": 48,
   "id": "127a863b",
   "metadata": {},
   "outputs": [
    {
     "data": {
      "text/plain": [
       "'F, Redo'"
      ]
     },
     "execution_count": 48,
     "metadata": {},
     "output_type": "execute_result"
    }
   ],
   "source": []
  },
  {
   "cell_type": "code",
   "execution_count": 6,
   "id": "1d1e687d",
   "metadata": {},
   "outputs": [],
   "source": []
  },
  {
   "cell_type": "code",
   "execution_count": 7,
   "id": "a923466d",
   "metadata": {},
   "outputs": [],
   "source": [
    "def calculate_tip(bill, tip_percentage=0.2):\n",
    "    if type(tip_percentage) != float:\n",
    "        return False\n",
    "    if tip_percentage < 0 or tip_percentage > 1:\n",
    "        return 'the tip percentage must be between 0 and 1'\n",
    "    return tip_percentage * bill"
   ]
  },
  {
   "cell_type": "code",
   "execution_count": 8,
   "id": "a6ce20c5",
   "metadata": {},
   "outputs": [
    {
     "data": {
      "text/plain": [
       "4.0"
      ]
     },
     "execution_count": 8,
     "metadata": {},
     "output_type": "execute_result"
    }
   ],
   "source": [
    "calculate_tip (20)"
   ]
  },
  {
   "cell_type": "code",
   "execution_count": 9,
   "id": "7c667ea2",
   "metadata": {},
   "outputs": [
    {
     "data": {
      "text/plain": [
       "5.0"
      ]
     },
     "execution_count": 9,
     "metadata": {},
     "output_type": "execute_result"
    }
   ],
   "source": [
    "calculate_tip(25)"
   ]
  },
  {
   "cell_type": "code",
   "execution_count": 28,
   "id": "b3c49527",
   "metadata": {},
   "outputs": [],
   "source": [
    "def apply_discount(price, discount_percentage):\n",
    "    price = 100\n",
    "    discount_percentage = .2\n",
    "    discount = price * discount_percentage\n",
    "    return price - discount\n",
    "# needed to keep variables open"
   ]
  },
  {
   "cell_type": "code",
   "execution_count": 31,
   "id": "5956a5ae",
   "metadata": {},
   "outputs": [
    {
     "ename": "TypeError",
     "evalue": "apply_discount() missing 1 required positional argument: 'discount_percentage'",
     "output_type": "error",
     "traceback": [
      "\u001b[0;31m---------------------------------------------------------------------------\u001b[0m",
      "\u001b[0;31mTypeError\u001b[0m                                 Traceback (most recent call last)",
      "\u001b[0;32m/var/folders/z7/f3scrkt52xl98f7q0pcz9vy80000gn/T/ipykernel_40985/2470245840.py\u001b[0m in \u001b[0;36m<module>\u001b[0;34m\u001b[0m\n\u001b[0;32m----> 1\u001b[0;31m \u001b[0mapply_discount\u001b[0m \u001b[0;34m(\u001b[0m\u001b[0;36m100\u001b[0m\u001b[0;34m)\u001b[0m\u001b[0;34m\u001b[0m\u001b[0;34m\u001b[0m\u001b[0m\n\u001b[0m",
      "\u001b[0;31mTypeError\u001b[0m: apply_discount() missing 1 required positional argument: 'discount_percentage'"
     ]
    }
   ],
   "source": [
    "apply_discount (100)"
   ]
  },
  {
   "cell_type": "code",
   "execution_count": 32,
   "id": "a0bbc323",
   "metadata": {},
   "outputs": [],
   "source": [
    "def apply_discount(price, discount_percentage):\n",
    "    discount = price * discount_percentage\n",
    "    return price - discount"
   ]
  },
  {
   "cell_type": "code",
   "execution_count": 33,
   "id": "1c86abc9",
   "metadata": {},
   "outputs": [
    {
     "data": {
      "text/plain": [
       "80.0"
      ]
     },
     "execution_count": 33,
     "metadata": {},
     "output_type": "execute_result"
    }
   ],
   "source": [
    "apply_discount(100, .2)"
   ]
  },
  {
   "cell_type": "code",
   "execution_count": null,
   "id": "a6c5a4bf",
   "metadata": {},
   "outputs": [],
   "source": []
  },
  {
   "cell_type": "code",
   "execution_count": 35,
   "id": "458e4d79",
   "metadata": {},
   "outputs": [],
   "source": [
    "def handle_commas(somestring):\n",
    "    if type(somestring) != str:\n",
    "        return 'input must be a string'\n",
    "    somestring = somestring.replace(',', '')\n",
    "    if somestring.isdigit():\n",
    "        return float(somestring)\n",
    "    else:\n",
    "        return 'input must be a string that is a number'"
   ]
  },
  {
   "cell_type": "code",
   "execution_count": 36,
   "id": "885df927",
   "metadata": {},
   "outputs": [
    {
     "data": {
      "text/plain": [
       "'input must be a string that is a number'"
      ]
     },
     "execution_count": 36,
     "metadata": {},
     "output_type": "execute_result"
    }
   ],
   "source": [
    "handle_commas('hello,,world')"
   ]
  },
  {
   "cell_type": "code",
   "execution_count": 37,
   "id": "81797b1a",
   "metadata": {},
   "outputs": [
    {
     "data": {
      "text/plain": [
       "5000000.0"
      ]
     },
     "execution_count": 37,
     "metadata": {},
     "output_type": "execute_result"
    }
   ],
   "source": [
    "handle_commas('50,00000')"
   ]
  },
  {
   "cell_type": "code",
   "execution_count": 42,
   "id": "42213b48",
   "metadata": {},
   "outputs": [],
   "source": [
    "def get_letter_grade(grade):\n",
    "    if type(grade) == int or type(grade) == float:\n",
    "        if grade >= 100:\n",
    "            return \"A, Great job\"\n",
    "        elif grade >= 80:\n",
    "            return \"B, Almost there\"\n",
    "        elif grade >= 70:\n",
    "            return \"C, Try Harder\"\n",
    "        elif grade >= 60:\n",
    "            return \"D, You suck\"\n",
    "        else:\n",
    "            return \"F, Redo\"\n",
    "    else:\n",
    "        return \"Input must be a number\"\n"
   ]
  },
  {
   "cell_type": "code",
   "execution_count": 44,
   "id": "70f90c1d",
   "metadata": {},
   "outputs": [
    {
     "data": {
      "text/plain": [
       "'D, You suck'"
      ]
     },
     "execution_count": 44,
     "metadata": {},
     "output_type": "execute_result"
    }
   ],
   "source": [
    "get_letter_grade(60)"
   ]
  },
  {
   "cell_type": "code",
   "execution_count": 60,
   "id": "00a50d47",
   "metadata": {},
   "outputs": [],
   "source": [
    "def remove_vowels(somestring):\n",
    "   # if type(somestring) != str:\n",
    "    for letter in somestring:\n",
    "        if is_consonant(letter):\n",
    "            output += letter\n",
    "        return output"
   ]
  },
  {
   "cell_type": "code",
   "execution_count": 61,
   "id": "3fec7291",
   "metadata": {},
   "outputs": [
    {
     "ename": "UnboundLocalError",
     "evalue": "local variable 'output' referenced before assignment",
     "output_type": "error",
     "traceback": [
      "\u001b[0;31m---------------------------------------------------------------------------\u001b[0m",
      "\u001b[0;31mUnboundLocalError\u001b[0m                         Traceback (most recent call last)",
      "\u001b[0;32m/var/folders/z7/f3scrkt52xl98f7q0pcz9vy80000gn/T/ipykernel_40985/1407475750.py\u001b[0m in \u001b[0;36m<module>\u001b[0;34m\u001b[0m\n\u001b[0;32m----> 1\u001b[0;31m \u001b[0mremove_vowels\u001b[0m\u001b[0;34m(\u001b[0m\u001b[0;34m'aaaaaaaaaeeeeeeeiiiiooooouuu ,wow!!!!!'\u001b[0m\u001b[0;34m)\u001b[0m\u001b[0;34m\u001b[0m\u001b[0;34m\u001b[0m\u001b[0m\n\u001b[0m",
      "\u001b[0;32m/var/folders/z7/f3scrkt52xl98f7q0pcz9vy80000gn/T/ipykernel_40985/1260390307.py\u001b[0m in \u001b[0;36mremove_vowels\u001b[0;34m(somestring)\u001b[0m\n\u001b[1;32m      4\u001b[0m         \u001b[0;32mif\u001b[0m \u001b[0mis_consonant\u001b[0m\u001b[0;34m(\u001b[0m\u001b[0mletter\u001b[0m\u001b[0;34m)\u001b[0m\u001b[0;34m:\u001b[0m\u001b[0;34m\u001b[0m\u001b[0;34m\u001b[0m\u001b[0m\n\u001b[1;32m      5\u001b[0m             \u001b[0moutput\u001b[0m \u001b[0;34m+=\u001b[0m \u001b[0mletter\u001b[0m\u001b[0;34m\u001b[0m\u001b[0;34m\u001b[0m\u001b[0m\n\u001b[0;32m----> 6\u001b[0;31m         \u001b[0;32mreturn\u001b[0m \u001b[0moutput\u001b[0m\u001b[0;34m\u001b[0m\u001b[0;34m\u001b[0m\u001b[0m\n\u001b[0m",
      "\u001b[0;31mUnboundLocalError\u001b[0m: local variable 'output' referenced before assignment"
     ]
    }
   ],
   "source": [
    "remove_vowels('aaaaaaaaaeeeeeeeiiiiooooouuu ,wow!!!!!')"
   ]
  },
  {
   "cell_type": "code",
   "execution_count": 49,
   "id": "671416f3",
   "metadata": {},
   "outputs": [],
   "source": [
    "def remove_vowels(somestring):\n",
    "    if type(somestring) != str: # i see the importiance of this varification\n",
    "        return False\n",
    "    output = ''\n",
    "    for letter in somestring:\n",
    "        if is_consonant(letter):\n",
    "            output += letter\n",
    "    return output"
   ]
  },
  {
   "cell_type": "raw",
   "id": "7fcbb4e2",
   "metadata": {},
   "source": [
    "remove_vowels('aaaaaaaaaeeeeeeeiiiiooooouuu ,wow!!!!!)"
   ]
  },
  {
   "cell_type": "code",
   "execution_count": 51,
   "id": "aa0ec2fc",
   "metadata": {},
   "outputs": [
    {
     "data": {
      "text/plain": [
       "'ww'"
      ]
     },
     "execution_count": 51,
     "metadata": {},
     "output_type": "execute_result"
    }
   ],
   "source": [
    "remove_vowels('aaaaaaaaaeeeeeeeiiiiooooouuu ,wow!!!!!')"
   ]
  },
  {
   "cell_type": "code",
   "execution_count": 66,
   "id": "785e164a",
   "metadata": {},
   "outputs": [],
   "source": [
    "def normalize_name(string):\n",
    "    output = ''\n",
    "    string = string.lower()\n",
    "    for character in string:\n",
    "        if character.isidentifier() or character == ' ':\n",
    "            output += character\n",
    "    output = output.strip()\n",
    "    output = output.replace('_', ' ') \n",
    "    return output"
   ]
  },
  {
   "cell_type": "code",
   "execution_count": 67,
   "id": "05182fa4",
   "metadata": {},
   "outputs": [
    {
     "data": {
      "text/plain": [
       "'      biggysmalls     '"
      ]
     },
     "execution_count": 67,
     "metadata": {},
     "output_type": "execute_result"
    }
   ],
   "source": [
    "normalize_name ('______BiGGySmalls@#$_____')"
   ]
  },
  {
   "cell_type": "code",
   "execution_count": 70,
   "id": "c8289e7a",
   "metadata": {},
   "outputs": [],
   "source": [
    "def cumulative_sum(x):\n",
    "    output = []\n",
    "    for i, num in enumerate(x):\n",
    "        sum_so_far = sum(x[:i + 1])\n",
    "        output.append(sum_so_far)\n",
    "    return output"
   ]
  },
  {
   "cell_type": "code",
   "execution_count": 72,
   "id": "900c5bcc",
   "metadata": {},
   "outputs": [
    {
     "ename": "TypeError",
     "evalue": "'int' object is not iterable",
     "output_type": "error",
     "traceback": [
      "\u001b[0;31m---------------------------------------------------------------------------\u001b[0m",
      "\u001b[0;31mTypeError\u001b[0m                                 Traceback (most recent call last)",
      "\u001b[0;32m/var/folders/z7/f3scrkt52xl98f7q0pcz9vy80000gn/T/ipykernel_40985/1972997544.py\u001b[0m in \u001b[0;36m<module>\u001b[0;34m\u001b[0m\n\u001b[0;32m----> 1\u001b[0;31m \u001b[0mcumulative_sum\u001b[0m \u001b[0;34m(\u001b[0m\u001b[0;36m1\u001b[0m\u001b[0;34m,\u001b[0m\u001b[0;34m)\u001b[0m\u001b[0;34m\u001b[0m\u001b[0;34m\u001b[0m\u001b[0m\n\u001b[0m",
      "\u001b[0;32m/var/folders/z7/f3scrkt52xl98f7q0pcz9vy80000gn/T/ipykernel_40985/2409482006.py\u001b[0m in \u001b[0;36mcumulative_sum\u001b[0;34m(x)\u001b[0m\n\u001b[1;32m      1\u001b[0m \u001b[0;32mdef\u001b[0m \u001b[0mcumulative_sum\u001b[0m\u001b[0;34m(\u001b[0m\u001b[0mx\u001b[0m\u001b[0;34m)\u001b[0m\u001b[0;34m:\u001b[0m\u001b[0;34m\u001b[0m\u001b[0;34m\u001b[0m\u001b[0m\n\u001b[1;32m      2\u001b[0m     \u001b[0moutput\u001b[0m \u001b[0;34m=\u001b[0m \u001b[0;34m[\u001b[0m\u001b[0;34m]\u001b[0m\u001b[0;34m\u001b[0m\u001b[0;34m\u001b[0m\u001b[0m\n\u001b[0;32m----> 3\u001b[0;31m     \u001b[0;32mfor\u001b[0m \u001b[0mi\u001b[0m\u001b[0;34m,\u001b[0m \u001b[0mnum\u001b[0m \u001b[0;32min\u001b[0m \u001b[0menumerate\u001b[0m\u001b[0;34m(\u001b[0m\u001b[0mx\u001b[0m\u001b[0;34m)\u001b[0m\u001b[0;34m:\u001b[0m\u001b[0;34m\u001b[0m\u001b[0;34m\u001b[0m\u001b[0m\n\u001b[0m\u001b[1;32m      4\u001b[0m         \u001b[0msum_so_far\u001b[0m \u001b[0;34m=\u001b[0m \u001b[0msum\u001b[0m\u001b[0;34m(\u001b[0m\u001b[0mx\u001b[0m\u001b[0;34m[\u001b[0m\u001b[0;34m:\u001b[0m\u001b[0mi\u001b[0m \u001b[0;34m+\u001b[0m \u001b[0;36m1\u001b[0m\u001b[0;34m]\u001b[0m\u001b[0;34m)\u001b[0m\u001b[0;34m\u001b[0m\u001b[0;34m\u001b[0m\u001b[0m\n\u001b[1;32m      5\u001b[0m         \u001b[0moutput\u001b[0m\u001b[0;34m.\u001b[0m\u001b[0mappend\u001b[0m\u001b[0;34m(\u001b[0m\u001b[0msum_so_far\u001b[0m\u001b[0;34m)\u001b[0m\u001b[0;34m\u001b[0m\u001b[0;34m\u001b[0m\u001b[0m\n",
      "\u001b[0;31mTypeError\u001b[0m: 'int' object is not iterable"
     ]
    }
   ],
   "source": [
    "cumulative_sum (1,)"
   ]
  },
  {
   "cell_type": "code",
   "execution_count": 75,
   "id": "616e4cb6",
   "metadata": {},
   "outputs": [],
   "source": [
    "somenums = [1, 2, 3]"
   ]
  },
  {
   "cell_type": "code",
   "execution_count": 76,
   "id": "48805c38",
   "metadata": {},
   "outputs": [],
   "source": [
    "def cumulative_sum(somenums):\n",
    "    output = []\n",
    "    for i, num in enumerate(somenums):\n",
    "        sum_so_far = sum(somenums[:i + 1])\n",
    "        output.append(sum_so_far)\n",
    "    return output"
   ]
  },
  {
   "cell_type": "code",
   "execution_count": 77,
   "id": "4ac6cc94",
   "metadata": {},
   "outputs": [
    {
     "data": {
      "text/plain": [
       "[1, 2, 3]"
      ]
     },
     "execution_count": 77,
     "metadata": {},
     "output_type": "execute_result"
    }
   ],
   "source": [
    "somenums"
   ]
  },
  {
   "cell_type": "code",
   "execution_count": 85,
   "id": "951f9a0d",
   "metadata": {},
   "outputs": [
    {
     "data": {
      "text/plain": [
       "[1, 5, 13]"
      ]
     },
     "execution_count": 85,
     "metadata": {},
     "output_type": "execute_result"
    }
   ],
   "source": [
    "cumulative_sum ([1 , 4, 8 ])"
   ]
  },
  {
   "cell_type": "code",
   "execution_count": null,
   "id": "d914e5fe",
   "metadata": {},
   "outputs": [],
   "source": [
    "def cumulative_sum(somenums):\n",
    "    output = []\n",
    "    for i in range(len(somenums)):\n",
    "        sum_so_far = sum(somenums[:i + 1])\n",
    "        output.append(sum_so_far)\n",
    "    return output"
   ]
  },
  {
   "cell_type": "code",
   "execution_count": null,
   "id": "eb2b3c35",
   "metadata": {},
   "outputs": [],
   "source": [
    "# range(len) = enumerate // so i guess distince variance vs length of string numbered. play with enumerate JOEY!!!#"
   ]
  }
 ],
 "metadata": {
  "kernelspec": {
   "display_name": "Python 3.9.7 ('base')",
   "language": "python",
   "name": "python397jvsc74a57bd038cca0c38332a56087b24af0bc80247f4fced29cb4f7f437d91dc159adec9c4e"
  },
  "language_info": {
   "codemirror_mode": {
    "name": "ipython",
    "version": 3
   },
   "file_extension": ".py",
   "mimetype": "text/x-python",
   "name": "python",
   "nbconvert_exporter": "python",
   "pygments_lexer": "ipython3",
   "version": "3.9.7"
  }
 },
 "nbformat": 4,
 "nbformat_minor": 5
}
