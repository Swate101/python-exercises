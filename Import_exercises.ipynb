{
 "cells": [
  {
   "cell_type": "code",
   "execution_count": 2,
   "id": "efc9ba10",
   "metadata": {},
   "outputs": [
    {
     "name": "stdout",
     "output_type": "stream",
     "text": [
      "6\n",
      "HEY THERE!!!\n",
      "None\n",
      "Hey there!\n",
      "Inside the function: 42\n",
      "Outside the function: 42\n",
      "Outside the function, n == 123\n",
      "Inside the function, n == 7\n",
      "Outside the function, n == 123\n"
     ]
    }
   ],
   "source": [
    "import function_expy"
   ]
  },
  {
   "cell_type": "code",
   "execution_count": 5,
   "id": "1f0a3076",
   "metadata": {},
   "outputs": [],
   "source": [
    "from function_expy import shout"
   ]
  },
  {
   "cell_type": "code",
   "execution_count": 6,
   "id": "697ad92a",
   "metadata": {},
   "outputs": [
    {
     "name": "stdout",
     "output_type": "stream",
     "text": [
      "HI!!!\n"
     ]
    }
   ],
   "source": [
    "shout('hi')"
   ]
  },
  {
   "cell_type": "code",
   "execution_count": 12,
   "id": "fc9a614e",
   "metadata": {},
   "outputs": [],
   "source": [
    "from function_expy import get_letter_grade, is_two, calculate_tip, is_vowel"
   ]
  },
  {
   "cell_type": "code",
   "execution_count": 8,
   "id": "61fd8ce6",
   "metadata": {},
   "outputs": [
    {
     "data": {
      "text/plain": [
       "'F, Redo'"
      ]
     },
     "execution_count": 8,
     "metadata": {},
     "output_type": "execute_result"
    }
   ],
   "source": [
    "get_letter_grade (50)"
   ]
  },
  {
   "cell_type": "code",
   "execution_count": 9,
   "id": "11445f01",
   "metadata": {},
   "outputs": [
    {
     "data": {
      "text/plain": [
       "20.0"
      ]
     },
     "execution_count": 9,
     "metadata": {},
     "output_type": "execute_result"
    }
   ],
   "source": [
    "calculate_tip (100)"
   ]
  },
  {
   "cell_type": "code",
   "execution_count": 10,
   "id": "50a9685c",
   "metadata": {},
   "outputs": [
    {
     "data": {
      "text/plain": [
       "<function function_expy.is_vowel(somestring)>"
      ]
     },
     "execution_count": 10,
     "metadata": {},
     "output_type": "execute_result"
    }
   ],
   "source": [
    "function_expy.is_vowel"
   ]
  },
  {
   "cell_type": "code",
   "execution_count": 14,
   "id": "1f3b7f91",
   "metadata": {},
   "outputs": [
    {
     "data": {
      "text/plain": [
       "True"
      ]
     },
     "execution_count": 14,
     "metadata": {},
     "output_type": "execute_result"
    }
   ],
   "source": [
    "is_vowel ('a')"
   ]
  },
  {
   "cell_type": "code",
   "execution_count": 16,
   "id": "32afb5d8",
   "metadata": {},
   "outputs": [],
   "source": [
    "from function_expy import get_letter_grade as Redo"
   ]
  },
  {
   "cell_type": "raw",
   "id": "896a6b3a",
   "metadata": {},
   "source": []
  },
  {
   "cell_type": "code",
   "execution_count": 18,
   "id": "abdc5f86",
   "metadata": {},
   "outputs": [
    {
     "data": {
      "text/plain": [
       "'F, Redo'"
      ]
     },
     "execution_count": 18,
     "metadata": {},
     "output_type": "execute_result"
    }
   ],
   "source": [
    "Redo (50)"
   ]
  },
  {
   "cell_type": "code",
   "execution_count": 19,
   "id": "a57077bb",
   "metadata": {},
   "outputs": [],
   "source": [
    "import itertools"
   ]
  },
  {
   "cell_type": "code",
   "execution_count": 22,
   "id": "ce88babd",
   "metadata": {},
   "outputs": [
    {
     "data": {
      "text/plain": [
       "itertools.product"
      ]
     },
     "execution_count": 22,
     "metadata": {},
     "output_type": "execute_result"
    }
   ],
   "source": [
    "itertools.product"
   ]
  },
  {
   "cell_type": "code",
   "execution_count": 20,
   "id": "8fb33a57",
   "metadata": {},
   "outputs": [
    {
     "data": {
      "text/plain": [
       "[('a', '1'),\n",
       " ('a', '2'),\n",
       " ('a', '3'),\n",
       " ('b', '1'),\n",
       " ('b', '2'),\n",
       " ('b', '3'),\n",
       " ('c', '1'),\n",
       " ('c', '2'),\n",
       " ('c', '3')]"
      ]
     },
     "execution_count": 20,
     "metadata": {},
     "output_type": "execute_result"
    }
   ],
   "source": [
    "list(itertools.product(\"abc\", \"123\"))"
   ]
  },
  {
   "cell_type": "code",
   "execution_count": 21,
   "id": "b248bdfe",
   "metadata": {},
   "outputs": [],
   "source": [
    "# 9 diff way and combinations / /3 on each letter #"
   ]
  },
  {
   "cell_type": "code",
   "execution_count": 27,
   "id": "0332791e",
   "metadata": {},
   "outputs": [
    {
     "data": {
      "text/plain": [
       "itertools.combinations"
      ]
     },
     "execution_count": 27,
     "metadata": {},
     "output_type": "execute_result"
    }
   ],
   "source": [
    "itertools.combinations"
   ]
  },
  {
   "cell_type": "code",
   "execution_count": 35,
   "id": "0acf27fb",
   "metadata": {},
   "outputs": [
    {
     "data": {
      "text/plain": [
       "[('a', 'b'), ('a', 'c'), ('a', 'd'), ('b', 'c'), ('b', 'd'), ('c', 'd')]"
      ]
     },
     "execution_count": 35,
     "metadata": {},
     "output_type": "execute_result"
    }
   ],
   "source": [
    "list(itertools.combinations(\"abcd\", 2)) # ??? how do i get the len finction to work"
   ]
  },
  {
   "cell_type": "code",
   "execution_count": 36,
   "id": "89423ceb",
   "metadata": {},
   "outputs": [],
   "source": [
    "# 6 Diffrent combinations "
   ]
  },
  {
   "cell_type": "code",
   "execution_count": 37,
   "id": "3328b071",
   "metadata": {},
   "outputs": [
    {
     "data": {
      "text/plain": [
       "[('a', 'b'),\n",
       " ('a', 'c'),\n",
       " ('a', 'd'),\n",
       " ('b', 'a'),\n",
       " ('b', 'c'),\n",
       " ('b', 'd'),\n",
       " ('c', 'a'),\n",
       " ('c', 'b'),\n",
       " ('c', 'd'),\n",
       " ('d', 'a'),\n",
       " ('d', 'b'),\n",
       " ('d', 'c')]"
      ]
     },
     "execution_count": 37,
     "metadata": {},
     "output_type": "execute_result"
    }
   ],
   "source": [
    "list(itertools.permutations(\"abcd\", 2))"
   ]
  },
  {
   "cell_type": "code",
   "execution_count": null,
   "id": "8ad238d6",
   "metadata": {},
   "outputs": [],
   "source": [
    "# there are 12 diffrent premutations that are avliable #"
   ]
  }
 ],
 "metadata": {
  "kernelspec": {
   "display_name": "Python 3 (ipykernel)",
   "language": "python",
   "name": "python3"
  },
  "language_info": {
   "codemirror_mode": {
    "name": "ipython",
    "version": 3
   },
   "file_extension": ".py",
   "mimetype": "text/x-python",
   "name": "python",
   "nbconvert_exporter": "python",
   "pygments_lexer": "ipython3",
   "version": "3.9.7"
  }
 },
 "nbformat": 4,
 "nbformat_minor": 5
}
